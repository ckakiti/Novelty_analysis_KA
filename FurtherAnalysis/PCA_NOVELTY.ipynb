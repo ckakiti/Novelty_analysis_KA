{
 "cells": [
  {
   "cell_type": "code",
   "execution_count": 1,
   "metadata": {},
   "outputs": [],
   "source": [
    "import numpy as np\n",
    "from scipy import linalg as LA\n",
    "import itertools\n",
    "import seaborn as sns\n",
    "import matplotlib.pyplot as plt\n",
    "import pandas as pd\n",
    "import os"
   ]
  },
  {
   "cell_type": "code",
   "execution_count": 2,
   "metadata": {},
   "outputs": [],
   "source": [
    "def pca_on_np_array(nparray):\n",
    "    '''rows are members (mice), columns are variables (syllables)'''\n",
    "    nparray -= np.mean(nparray, axis = 0)  \n",
    "    #calculate covariance matrix\n",
    "    cov = np.cov(nparray, rowvar = False)\n",
    "    #get eigenvectors and eigenvalues\n",
    "    evals , evecs = LA.eigh(cov)\n",
    "\n",
    "    #formatting and SORT by eigenvalues (aka sort by how much variance each eigen vector explains)\n",
    "    idx = np.argsort(evals)[::-1]\n",
    "    evecs = evecs[:,idx]\n",
    "    evals = evals[idx]\n",
    "\n",
    "    #this is your data represented as PCS \n",
    "    nparray_represented_as_pcs = np.dot(nparray, evecs)\n",
    "    \n",
    "    return nparray_represented_as_pcs,evecs,evals"
   ]
  },
  {
   "cell_type": "code",
   "execution_count": 3,
   "metadata": {},
   "outputs": [],
   "source": [
    "def var_explained(evals): #UNUSED FXN\n",
    "    var_explained=evals/sum(evals)\n",
    "    return var_explained"
   ]
  },
  {
   "cell_type": "code",
   "execution_count": 4,
   "metadata": {},
   "outputs": [],
   "source": [
    "def pc_dist(nparray1,nparray2):\n",
    "    '''\n",
    "    calculate the distance between two groups and within each group\n",
    "    two groups should have the same number of variables columns\n",
    "    '''\n",
    "    \n",
    "    # first do pca on COMBINED data\n",
    "    a,b,c=pca_on_np_array(np.concatenate((nparray1,nparray2),axis=0))\n",
    "    #a=data represented as pc scores rather than variable (syllable) values; rows=mice, columns=PCs\n",
    "    #b=eigenvectors\n",
    "    #c=eigenvalue corresponding to each eigen vector (use this to calculate variance explained by each pc)\n",
    "    \n",
    "    #within array 1 dist\n",
    "    dist1=[]\n",
    "    for combos in list(itertools.combinations(a[0:len(nparray1)], 2)): #goes through pairs of mice (e.g. 1vs2,1vs3,1vs4,etc)\n",
    "        #calculate difference by finding difference in each pc and doing squareroot of sum of squares\n",
    "        dist1.append(sum(np.square(np.subtract(combos[0],combos[1])))**.5)\n",
    "        #print(sum(np.square(np.subtract(combos[0],combos[1])))**.5)\n",
    "    \n",
    "   \n",
    "    #within array 2 dist\n",
    "    dist2=[]\n",
    "    for combos in list(itertools.combinations(a[len(nparray1):len(a)], 2)):\n",
    "        #calculate difference by finding difference in each pc and doing squareroot of sum of squares\n",
    "        dist2.append(sum(np.square(np.subtract(combos[0],combos[1])))**.5)\n",
    "        #print(sum(np.square(np.subtract(combos[0],combos[1])))**.5)\n",
    "        \n",
    "        \n",
    "    #between array 1 and 2 dist\n",
    "    betweendist=[]\n",
    "    for combos in list(itertools.product(nparray1, nparray2)):\n",
    "        betweendist.append(sum(np.square(np.subtract(combos[0],combos[1])))**.5)\n",
    "        \n",
    "    return betweendist,dist1,dist2"
   ]
  },
  {
   "cell_type": "code",
   "execution_count": 5,
   "metadata": {},
   "outputs": [],
   "source": [
    "def contribution_of_each_syllable_to_distance(nparray1,nparray2):\n",
    "    pcs,eigenvectors,eigenvalues=pca_on_np_array(np.concatenate((nparray1,nparray2),axis=0))\n",
    "\n",
    "    n_mice1=len(nparray1)\n",
    "    n_mice2=len(nparray2)\n",
    "    n_syllables=len(nparray1[0])\n",
    "\n",
    "    #get the mean pc scores for each group\n",
    "    group1_mean_pcs=np.mean(pcs[0:(n_mice1-1)],axis=0)\n",
    "    group2_mean_pcs=np.mean(pcs[n_mice1:((n_mice1+n_mice2)-1)],axis=0)\n",
    "    \n",
    "    #calculate the absolute pairwise difference between pcs and divide by the sum \n",
    "    difference=np.abs(np.subtract(group1_mean_pcs,group2_mean_pcs))\n",
    "    square_difference=np.square(difference)\n",
    "    sum_of_square_difference=sum(square_difference)\n",
    "    weighted_difference=square_difference/sum_of_square_difference\n",
    "\n",
    "    #calculate how much each syllable contributes to each eigenvector and ultimately the distance between groups\n",
    "    contribution_of_each_syllable=np.zeros((n_syllables,n_syllables),dtype=float)\n",
    "    for i in range(n_syllables):\n",
    "        pc_i_contribution_to_all_syllables=weighted_difference[i]*np.square(eigenvectors[:,i])*((eigenvalues[i]**2/sum(eigenvalues**2)))\n",
    "        contribution_of_each_syllable[i,:]=pc_i_contribution_to_all_syllables\n",
    "    \n",
    "    contribution_of_each_syllable=sum(contribution_of_each_syllable)/sum(sum(contribution_of_each_syllable))\n",
    "    \n",
    "    return contribution_of_each_syllable"
   ]
  },
  {
   "cell_type": "code",
   "execution_count": 6,
   "metadata": {},
   "outputs": [],
   "source": [
    "def contribution_of_each_syllable_to_distance_raw(nparray1,nparray2):\n",
    "    '''distance can be calculated without doing pca'''\n",
    "    \n",
    "    n_mice1=len(nparray1)\n",
    "    n_mice2=len(nparray2)\n",
    "    n_syllables=len(nparray1[0])\n",
    "\n",
    "    #get the mean syllable expression for each group\n",
    "    group1_mean=np.mean(nparray1,axis=0)\n",
    "    group2_mean=np.mean(nparray2,axis=0)\n",
    "\n",
    "    #calculate the absolute pairwise difference between syllable expression and divide by the sum \n",
    "    difference=np.abs(np.subtract(group1_mean,group2_mean))\n",
    "    square_difference=np.square(difference)\n",
    "    sum_of_difference=sum(square_difference)\n",
    "    weighted_difference=square_difference/sum_of_difference\n",
    "\n",
    "    return weighted_difference"
   ]
  },
  {
   "cell_type": "code",
   "execution_count": 13,
   "metadata": {},
   "outputs": [
    {
     "name": "stdout",
     "output_type": "stream",
     "text": [
      "9\n"
     ]
    }
   ],
   "source": [
    "# processing my data\n",
    "n_mice=9 #12 #9 ########################\n",
    "n_syllables=14\n",
    "print(n_mice)\n",
    "\n",
    "#STatiStiCal SIGniFicAncE\n",
    "#the cutoff should be interpreted as: while all syllables contribute to the distance between groups mathematically,\n",
    "#only (cutoff-1)% of unintended (randomly walking) syllables should fall above the line.\n",
    "#this is not the fdr! In all examples, we draw from a random uniform distribution, however, \n",
    "#biologial variables are often drawn from normal or exponential distributions\n",
    "cutoff=.95\n",
    "compounds=int(np.ceil(np.log2(1/(1-cutoff))))\n",
    "comp=[]\n",
    "\n",
    "for i in range(compounds):\n",
    "    comp.append((1.0/n_syllables)/(2.0*(i+1.0)))\n",
    "cutoff=(1.0/n_syllables) + sum(comp)"
   ]
  },
  {
   "cell_type": "code",
   "execution_count": 16,
   "metadata": {
    "scrolled": false
   },
   "outputs": [
    {
     "name": "stdout",
     "output_type": "stream",
     "text": [
      "(8, 14)\n",
      "(9, 14)\n",
      "/Users/cakiti/Dropbox (Uchida Lab)/Korleki Akiti/Behavior/Standard setup/CombineAnalysis/Dataset_20190723\n"
     ]
    }
   ],
   "source": [
    "curr_dataset = 'Dataset_20190723' #Dataset_20190723 #Dataset_20191007\n",
    "which_day    = 'N1';    #N1\n",
    "sesh_len     = '10min'; #10min #2s\n",
    "event_type   = 'poke_syl10';  #appr #poke #retr #poke_syl10\n",
    "group1_name  = 'stim_noB';  #stim\n",
    "group2_name  = 'cont';  #cont\n",
    "\n",
    "group1_file_name = curr_dataset+'/'+curr_dataset+'_sylExpr_'+which_day+'_'+event_type+'_'+group1_name+'.csv'\n",
    "group2_file_name = curr_dataset+'/'+curr_dataset+'_sylExpr_'+which_day+'_'+event_type+'_'+group2_name+'.csv'\n",
    "#group1_file_name = curr_dataset+'/'+curr_dataset+'_sylExpr_'+which_day+'_'+group1_name+'_'+sesh_len+'.csv'\n",
    "#group2_file_name = curr_dataset+'/'+curr_dataset+'_sylExpr_'+which_day+'_'+group2_name+'_'+sesh_len+'.csv'\n",
    "#group1_file_name = curr_dataset+'/'+curr_dataset+'_sylExpr_'+which_day+'_'+event_type+'_'+sesh_len+'_'+group1_name+'.csv'\n",
    "#group2_file_name = curr_dataset+'/'+curr_dataset+'_sylExpr_'+which_day+'_'+event_type+'_'+sesh_len+'_'+group2_name+'.csv'\n",
    "file_path = '/Users/cakiti/Dropbox (Uchida Lab)/Korleki Akiti/Behavior/Standard setup/CombineAnalysis/'\n",
    "\n",
    "csv_group1 = pd.read_csv(os.path.join(file_path,group1_file_name), header = None)\n",
    "csv_group2 = pd.read_csv(os.path.join(file_path,group2_file_name), header = None)\n",
    "csv_group1 = np.float64(csv_group1)\n",
    "csv_group2 = np.float64(csv_group2)\n",
    "\n",
    "print(csv_group1.shape)\n",
    "print(csv_group2.shape)\n",
    "#print(N1_stim[:,:5])\n",
    "\n",
    "save_where = os.path.join(file_path,curr_dataset)\n",
    "print(save_where)"
   ]
  },
  {
   "cell_type": "code",
   "execution_count": 17,
   "metadata": {
    "scrolled": false
   },
   "outputs": [
    {
     "data": {
      "text/plain": [
       "<matplotlib.lines.Line2D at 0x1a16e2b290>"
      ]
     },
     "execution_count": 17,
     "metadata": {},
     "output_type": "execute_result"
    },
    {
     "data": {
      "image/png": "[encoded data removed]",
      "text/plain": [
       "<Figure size 1152x288 with 3 Axes>"
      ]
     },
     "metadata": {
      "needs_background": "light"
     },
     "output_type": "display_data"
    }
   ],
   "source": [
    "# plotting using my data ##################################\n",
    "\n",
    "# extract PC distances array (first step in pc_dist)\n",
    "#nparray = np.concatenate((csv_group1,csv_group2),axis=0)\n",
    "#a,b,c = pca_on_np_array(nparray)\n",
    "\n",
    "#display(a.shape)\n",
    "#save_where = os.path.join(file_path,curr_dataset)\n",
    "#np.savetxt(save_where+'/'+curr_dataset+'_'+which_day+'_'+sesh_len+'_PCSarray.txt', nparray_represented_as_pcs, delimiter=',', fmt=\"%.2f\")\n",
    "\n",
    "f, axes = plt.subplots(1,3)\n",
    "f.set_size_inches(16,4)\n",
    "\n",
    "exampleN_between,exampleN_within1,exampleN_within2=pc_dist(csv_group1,csv_group2)\n",
    "\n",
    "sns.distplot(exampleN_between, color='purple',label=['distance between groups'],ax=axes[0])\n",
    "sns.distplot(exampleN_within1, color='blue',label=['distance within '+group1_name],ax=axes[0])\n",
    "sns.distplot(exampleN_within2, color='red',label=['distance within '+group2_name],ax=axes[0])\n",
    "axes[0].set_title('pc distance')\n",
    "axes[0].legend()\n",
    "\n",
    "\n",
    "exampleN_raw=contribution_of_each_syllable_to_distance_raw(csv_group1,csv_group2)\n",
    "\n",
    "sns.barplot(x=np.array(range(n_syllables)),y=exampleN_raw,ax=axes[1])\n",
    "exampleN_raw_title = 'contribution of variable to distance ('+which_day+'_'+sesh_len+')'\n",
    "axes[1].set_title(exampleN_raw_title)\n",
    "axes[1].axhline(cutoff, ls='--')\n",
    "\n",
    "\n",
    "exampleN_after=contribution_of_each_syllable_to_distance(csv_group1,csv_group2)\n",
    "\n",
    "sns.barplot(x=np.array(range(n_syllables)),y=exampleN_after,ax=axes[2])\n",
    "exampleN_after_title = 'contribution of variable to distance after pca ('+which_day+'_'+sesh_len+')'\n",
    "axes[2].set_title(exampleN_after_title)\n",
    "axes[2].axhline(cutoff, ls='--')"
   ]
  },
  {
   "cell_type": "code",
   "execution_count": 18,
   "metadata": {},
   "outputs": [
    {
     "name": "stdout",
     "output_type": "stream",
     "text": [
      "/Users/cakiti/Dropbox (Uchida Lab)/Korleki Akiti/Behavior/Standard setup/CombineAnalysis/Dataset_20190723\n"
     ]
    }
   ],
   "source": [
    "save_where = os.path.join(file_path,curr_dataset)\n",
    "print(save_where)\n",
    "\n",
    "np.savetxt(save_where+'/'+curr_dataset+'_between_'+which_day+'_'+sesh_len+'.txt', exampleN_between, delimiter=',', fmt=\"%.3f\")\n",
    "np.savetxt(save_where+'/'+curr_dataset+'_within1_'+which_day+'_'+sesh_len+'.txt', exampleN_within1, delimiter=',', fmt=\"%.3f\")\n",
    "np.savetxt(save_where+'/'+curr_dataset+'_within2_'+which_day+'_'+sesh_len+'.txt', exampleN_within2, delimiter=',', fmt=\"%.3f\")\n",
    "np.savetxt(save_where+'/'+curr_dataset+'_raw_'+which_day+'_'+sesh_len+'.txt', exampleN_raw, delimiter=',', fmt=\"%.8f\")\n",
    "np.savetxt(save_where+'/'+curr_dataset+'_afterPCA_'+which_day+'_'+sesh_len+'.txt', exampleN_after, delimiter=',', fmt=\"%.8f\")\n",
    "f.savefig(save_where+'/'+curr_dataset+'_PCA_sylGroupDist_'+which_day+'_'+sesh_len+'.png')"
   ]
  },
  {
   "cell_type": "code",
   "execution_count": null,
   "metadata": {},
   "outputs": [],
   "source": [
    "# example models\n",
    "# two groups, each have n_mice mice and produce n_syllables syllables\n",
    "n_mice=9\n",
    "n_syllables=20\n",
    "\n",
    "save_where = '/Users/cakiti/Dropbox (Uchida Lab)/Korleki Akiti/Behavior/Standard setup/CombineAnalysis/example_models'\n",
    "print(save_where)\n",
    "\n",
    "#STatiStiCal SIGniFicAncE\n",
    "#the cutoff should be interpreted as: while all syllables contribute to the distance between groups mathematically,\n",
    "#only (cutoff-1)% of unintended (randomly walking) syllables should fall above the line.\n",
    "#this is not the fdr! In all examples, we draw from a random uniform distribution, however, \n",
    "#biologial variables are often drawn from normal or exponential distributions\n",
    "cutoff=.95\n",
    "compounds=int(np.ceil(np.log2(1/(1-cutoff))))\n",
    "comp=[]\n",
    "\n",
    "for i in range(compounds):\n",
    "    comp.append((1.0/n_syllables)/(2.0*(i+1.0)))\n",
    "cutoff=(1.0/n_syllables) + sum(comp)"
   ]
  },
  {
   "cell_type": "code",
   "execution_count": null,
   "metadata": {},
   "outputs": [],
   "source": [
    "#example1: group2 (red) uses each of it's syllables about twice as much (+.5)\n",
    "which_example = 1\n",
    "example_group1=np.random.rand(n_mice,n_syllables)\n",
    "example_group2=np.random.rand(n_mice,n_syllables)+.5"
   ]
  },
  {
   "cell_type": "code",
   "execution_count": null,
   "metadata": {},
   "outputs": [],
   "source": [
    "#example2: group2 (red) uses the first syllable ~ three times as much (~+1) as group 1 does\n",
    "which_example = 2\n",
    "example_group1=np.random.rand(n_mice,n_syllables)\n",
    "example_group2=np.random.rand(n_mice,n_syllables)\n",
    "example_group2[:,2]+=1.5"
   ]
  },
  {
   "cell_type": "code",
   "execution_count": null,
   "metadata": {},
   "outputs": [],
   "source": [
    "#example 3: two groups' variables (syllables) are drawn from same distribution\n",
    "which_example = 3\n",
    "example_group1=np.random.rand(n_mice,n_syllables)\n",
    "example_group2=np.random.rand(n_mice,n_syllables)"
   ]
  },
  {
   "cell_type": "code",
   "execution_count": null,
   "metadata": {},
   "outputs": [],
   "source": [
    "#example 4: variables (syllables) 2 and 5 are expressed much higher in group 1 vs group 2\n",
    "which_example = 4\n",
    "example_group1=np.random.rand(n_mice,n_syllables)\n",
    "example_group2=np.random.rand(n_mice,n_syllables)\n",
    "example_group2[:,2]+=.5\n",
    "example_group2[:,5]+=.5"
   ]
  },
  {
   "cell_type": "code",
   "execution_count": null,
   "metadata": {},
   "outputs": [],
   "source": [
    "#example 5: variables (syllables) 5 and 9 are perfectly correlated,  and 5 and 1 are expressed more in group 2\n",
    "which_example = 5\n",
    "example_group1=np.random.rand(n_mice,n_syllables)\n",
    "example_group2=np.random.rand(n_mice,n_syllables)\n",
    "example_group1[:,9]=example_group1[:,5]*1.1 #variable 9 is 110% of variable 5\n",
    "example_group2[:,9]=example_group2[:,5]*1.1 \n",
    "example_group2[:,5]+=.5\n",
    "example_group2[:,1]+=.5"
   ]
  },
  {
   "cell_type": "code",
   "execution_count": null,
   "metadata": {},
   "outputs": [],
   "source": [
    "#example 6: one mouse in group 1 is weird (expresses some syllables more)\n",
    "which_example = 6\n",
    "example_group1=np.random.rand(n_mice,n_syllables)\n",
    "example_group2=np.random.rand(n_mice,n_syllables)\n",
    "example_group1[3,2]+=2\n",
    "example_group1[3,6]+=.5\n",
    "example_group1[3,7]+=2"
   ]
  },
  {
   "cell_type": "code",
   "execution_count": null,
   "metadata": {},
   "outputs": [],
   "source": [
    "# plotting and saving example\n",
    "display(which_example)\n",
    "example_between,example_within1,example_within2=pc_dist(example_group1,example_group2)\n",
    "\n",
    "f, axes = plt.subplots(1,3)\n",
    "f.set_size_inches(16,4)\n",
    "\n",
    "sns.distplot(example_between, color='purple',label=['distance between groups'],ax=axes[0])\n",
    "sns.distplot(example_within1, color='blue',label=['distance within group 1'],ax=axes[0])\n",
    "sns.distplot(example_within2, color='red',label=['distance within group 2'],ax=axes[0])\n",
    "axes[0].set_title('pc distance')\n",
    "axes[0].legend()\n",
    "\n",
    "example=contribution_of_each_syllable_to_distance_raw(example_group1,example_group2)\n",
    "sns.barplot(x=np.array(range(n_syllables)),y=example,ax=axes[1])\n",
    "axes[1].set_title('contribution of variable to distance')\n",
    "axes[1].axhline(cutoff, ls='--')\n",
    "\n",
    "example=contribution_of_each_syllable_to_distance(example_group1,example_group2)\n",
    "sns.barplot(x=np.array(range(n_syllables)),y=example,ax=axes[2])\n",
    "axes[2].set_title('contribution of variable to distance after pca')\n",
    "axes[2].axhline(cutoff, ls='--')\n",
    "\n",
    "#np.savetxt(save_where+'/example'+str(which_example)+'_within1_.txt', example_within1, delimiter=',', fmt=\"%.3f\")\n",
    "#np.savetxt(save_where+'/example'+str(which_example)+'_within2_.txt', example_within2, delimiter=',', fmt=\"%.3f\")\n",
    "#np.savetxt(save_where+'/example'+str(which_example)+'_between_.txt', example_between, delimiter=',', fmt=\"%.3f\")\n",
    "#f.savefig(save_where+'/example'+str(which_example)+'_PCA_sylGroupDist.png')"
   ]
  },
  {
   "cell_type": "code",
   "execution_count": null,
   "metadata": {},
   "outputs": [],
   "source": [
    "np.savetxt(save_where+'/example'+str(which_example)+'_within1_.txt', example_within1, delimiter=',', fmt=\"%.3f\")\n",
    "np.savetxt(save_where+'/example'+str(which_example)+'_within2_.txt', example_within2, delimiter=',', fmt=\"%.3f\")\n",
    "np.savetxt(save_where+'/example'+str(which_example)+'_between_.txt', example_between, delimiter=',', fmt=\"%.3f\")\n",
    "f.savefig(save_where+'/example'+str(which_example)+'_PCA_sylGroupDist.png')"
   ]
  },
  {
   "cell_type": "code",
   "execution_count": null,
   "metadata": {},
   "outputs": [],
   "source": []
  }
 ],
 "metadata": {
  "kernelspec": {
   "display_name": "Python 3",
   "language": "python",
   "name": "python3"
  },
  "language_info": {
   "codemirror_mode": {
    "name": "ipython",
    "version": 3
   },
   "file_extension": ".py",
   "mimetype": "text/x-python",
   "name": "python",
   "nbconvert_exporter": "python",
   "pygments_lexer": "ipython3",
   "version": "3.6.10"
  },
  "varInspector": {
   "cols": {
    "lenName": 16,
    "lenType": 16,
    "lenVar": 40
   },
   "kernels_config": {
    "python": {
     "delete_cmd_postfix": "",
     "delete_cmd_prefix": "del ",
     "library": "var_list.py",
     "varRefreshCmd": "print(var_dic_list())"
    },
    "r": {
     "delete_cmd_postfix": ") ",
     "delete_cmd_prefix": "rm(",
     "library": "var_list.r",
     "varRefreshCmd": "cat(var_dic_list()) "
    }
   },
   "types_to_exclude": [
    "module",
    "function",
    "builtin_function_or_method",
    "instance",
    "_Feature"
   ],
   "window_display": false
  }
 },
 "nbformat": 4,
 "nbformat_minor": 2
}
