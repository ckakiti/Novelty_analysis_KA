{
 "cells": [
  {
   "cell_type": "code",
   "execution_count": 1,
   "metadata": {},
   "outputs": [],
   "source": [
    "import numpy as np\n",
    "from scipy import linalg as LA\n",
    "import itertools\n",
    "import seaborn as sns\n",
    "import matplotlib.pyplot as plt\n",
    "import pandas as pd\n",
    "import os"
   ]
  },
  {
   "cell_type": "code",
   "execution_count": 2,
   "metadata": {},
   "outputs": [
    {
     "data": {
      "text/plain": [
       "array([[ 5.1,  5. , 13. ],\n",
       "       [ 5. ,  9. , 28. ],\n",
       "       [ 4. ,  6. ,  2. ],\n",
       "       [ 5. ,  8. , 16. ]])"
      ]
     },
     "metadata": {},
     "output_type": "display_data"
    }
   ],
   "source": [
    "#mock data #imagine rows are syllables and columns are mice\n",
    "#change values and/or size of array to see how it effects the eigenvectors/eigenvalues \n",
    "\n",
    "#in our mock data we have 4 mice that produce 3 syllables\n",
    "mockdata = np.array([  \n",
    "        [5.1,5, 13],\n",
    "        [5,9,28],\n",
    "        [4,6,2],\n",
    "        [5,8,16],])\n",
    "display(mockdata)"
   ]
  },
  {
   "cell_type": "code",
   "execution_count": 3,
   "metadata": {},
   "outputs": [
    {
     "data": {
      "text/plain": [
       "array([[  0.325,  -2.   ,  -1.75 ],\n",
       "       [  0.225,   2.   ,  13.25 ],\n",
       "       [ -0.775,  -1.   , -12.75 ],\n",
       "       [  0.225,   1.   ,   1.25 ]])"
      ]
     },
     "metadata": {},
     "output_type": "display_data"
    }
   ],
   "source": [
    "#centering the data\n",
    "mockdata -= np.mean(mockdata, axis = 0)  \n",
    "display(mockdata)"
   ]
  },
  {
   "cell_type": "code",
   "execution_count": 4,
   "metadata": {},
   "outputs": [
    {
     "data": {
      "text/plain": [
       "array([[  0.26916667,   0.26666667,   4.19166667],\n",
       "       [  0.26666667,   3.33333333,  14.66666667],\n",
       "       [  4.19166667,  14.66666667, 114.25      ]])"
      ]
     },
     "metadata": {},
     "output_type": "display_data"
    }
   ],
   "source": [
    "#calculate covariance matrix\n",
    "cov = np.cov(mockdata, rowvar = False)\n",
    "\n",
    "display(cov)"
   ]
  },
  {
   "cell_type": "code",
   "execution_count": 5,
   "metadata": {},
   "outputs": [
    {
     "data": {
      "text/plain": [
       "array([[-0.03609448,  0.19792345,  0.9795527 ],\n",
       "       [-0.12874215, -0.9729446 ,  0.19184437],\n",
       "       [-0.99102101,  0.11918519, -0.06059902]])"
      ]
     },
     "metadata": {},
     "output_type": "display_data"
    },
    {
     "data": {
      "text/plain": [
       "array([1.16307993e+02, 1.48242723e+00, 6.20799178e-02])"
      ]
     },
     "metadata": {},
     "output_type": "display_data"
    }
   ],
   "source": [
    "#get eigenvectors and eigenvalues\n",
    "evals , evecs = LA.eigh(cov)\n",
    "\n",
    "#formatting and SORT by eigenvalues (aka sort by how much variance each eigen vector explains)\n",
    "idx = np.argsort(evals)[::-1]\n",
    "evecs = evecs[:,idx]\n",
    "evals = evals[idx]\n",
    "\n",
    "display(evecs)\n",
    "display(evals)"
   ]
  },
  {
   "cell_type": "code",
   "execution_count": 6,
   "metadata": {},
   "outputs": [
    {
     "data": {
      "text/plain": [
       "array([[  1.98004036,   1.80164023,   0.04071418],\n",
       "       [-13.39663397,  -0.32215261,  -0.19884889],\n",
       "       [ 12.79223328,  -0.70005729,  -0.17836024],\n",
       "       [ -1.37563967,  -0.77943033,   0.33649495]])"
      ]
     },
     "metadata": {},
     "output_type": "display_data"
    }
   ],
   "source": [
    "#this is your data represented as PCS \n",
    "mockdata_represented_as_pcs = np.dot(mockdata, evecs)\n",
    "display(mockdata_represented_as_pcs)"
   ]
  },
  {
   "cell_type": "code",
   "execution_count": null,
   "metadata": {},
   "outputs": [],
   "source": []
  }
 ],
 "metadata": {
  "kernelspec": {
   "display_name": "Python 2",
   "language": "python",
   "name": "python2"
  },
  "language_info": {
   "codemirror_mode": {
    "name": "ipython",
    "version": 2
   },
   "file_extension": ".py",
   "mimetype": "text/x-python",
   "name": "python",
   "nbconvert_exporter": "python",
   "pygments_lexer": "ipython2",
   "version": "2.7.13"
  }
 },
 "nbformat": 4,
 "nbformat_minor": 2
}
