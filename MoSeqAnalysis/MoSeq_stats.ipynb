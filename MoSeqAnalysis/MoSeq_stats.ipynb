{
 "cells": [
  {
   "cell_type": "code",
   "execution_count": 1,
   "metadata": {},
   "outputs": [],
   "source": [
    "from moseq2_viz.model.util import parse_model_results\n",
    "from moseq2_viz.util import parse_index\n",
    "from moseq2_viz.scalars.util import scalars_to_dataframe\n",
    "from scipy import stats\n",
    "import numpy as np\n",
    "import pandas as pd\n",
    "import os\n",
    "import matplotlib.pyplot as plt"
   ]
  },
  {
   "cell_type": "code",
   "execution_count": 2,
   "metadata": {},
   "outputs": [
    {
     "data": {
      "application/vnd.jupyter.widget-view+json": {
       "model_id": "3f031d1366aa4e8b862aa9f90649b2bd",
       "version_major": 2,
       "version_minor": 0
      },
      "text/plain": [
       "HBox(children=(FloatProgress(value=0.0, max=107.0), HTML(value='')))"
      ]
     },
     "metadata": {},
     "output_type": "display_data"
    },
    {
     "name": "stdout",
     "output_type": "stream",
     "text": [
      "\n"
     ]
    },
    {
     "data": {
      "text/plain": [
       "'step 1 done'"
      ]
     },
     "metadata": {},
     "output_type": "display_data"
    }
   ],
   "source": [
    "# Step 1: load data\n",
    "#point paths to model and index files\n",
    "file_path = '/Users/cakiti/Dropbox (Uchida Lab)/Korleki Akiti/Behavior/Standard setup/CombineAnalysis/Just-in-case files/Dataset_20190723/'\n",
    "#file_path = '/media/alex/DataDrive1/MoSeqData/Dataset_20190723/MoSeq/'\n",
    "\n",
    "model_file = os.path.join(file_path,'my_model.p') \n",
    "index_file = os.path.join(file_path,'moseq2-index.yaml') #generate using \"moseq2-viz generate-index\"\n",
    "\n",
    "# load file containing uuids (if only testing subset of data)\n",
    "uuid_file_path = '/Users/cakiti/Dropbox (Uchida Lab)/Korleki Akiti/Behavior/Standard setup/CombineAnalysis/Dataset_20190723/'\n",
    "uuid_file_name = os.path.join(uuid_file_path, 'MiceIndex_combine3_uuidN1.csv')\n",
    "uuid_file      = pd.read_csv(uuid_file_name, header = None)\n",
    "uuid_file      = uuid_file[0]\n",
    "\n",
    "#parse index and model results\n",
    "index, sorted_index = parse_index(index_file)\n",
    "model_results = parse_model_results(model_file)\n",
    "\n",
    "#load data to pandas data frame\n",
    "df = scalars_to_dataframe(sorted_index, include_model = model_file)\n",
    "\n",
    "display('step 1 done')"
   ]
  },
  {
   "cell_type": "code",
   "execution_count": 3,
   "metadata": {},
   "outputs": [
    {
     "data": {
      "text/plain": [
       "'step 2 done'"
      ]
     },
     "metadata": {},
     "output_type": "display_data"
    }
   ],
   "source": [
    "# Step 2: organize data\n",
    "#indicate which subject names belong to which experimental group\n",
    "\n",
    "#stim novelty\n",
    "group1 = ['Au', 'Ginga', 'Negativa',\n",
    "'Bishop', 'Knight', 'Rook',\n",
    "'Appalachian', 'Continental', 'Long']\n",
    "\n",
    "#cont novelty\n",
    "group2 = ['Esquiva', 'MeiaLua', 'Queixada',\n",
    "'King', 'Pawn', 'Queen',\n",
    "'Arizona', 'JohnMuir', 'Pacific']\n",
    "\n",
    "#update df to include group labels for associated subject names\n",
    "for _id in group1:\n",
    "    df.loc[df.SubjectName==_id, 'group'] = 'group1'\n",
    "for _id in group2:\n",
    "    df.loc[df.SubjectName==_id, 'group'] = 'group2'\n",
    "    \n",
    "# indicate which uuids belong to which group (index in reference to uuid_file)\n",
    "which_s = np.array([1, 3, 5, 7, 9, 12, 13, 15, 17])-1\n",
    "which_c = np.array([2, 4, 6, 8, 10, 11, 14, 16, 18])-1\n",
    "\n",
    "display('step 2 done')"
   ]
  },
  {
   "cell_type": "code",
   "execution_count": 4,
   "metadata": {},
   "outputs": [
    {
     "data": {
      "text/html": [
       "<div>\n",
       "<style scoped>\n",
       "    .dataframe tbody tr th:only-of-type {\n",
       "        vertical-align: middle;\n",
       "    }\n",
       "\n",
       "    .dataframe tbody tr th {\n",
       "        vertical-align: top;\n",
       "    }\n",
       "\n",
       "    .dataframe thead th {\n",
       "        text-align: right;\n",
       "    }\n",
       "</style>\n",
       "<table border=\"1\" class=\"dataframe\">\n",
       "  <thead>\n",
       "    <tr style=\"text-align: right;\">\n",
       "      <th></th>\n",
       "      <th>timestamp</th>\n",
       "      <th>centroid_x_px</th>\n",
       "      <th>centroid_y_px</th>\n",
       "      <th>velocity_2d_px</th>\n",
       "      <th>velocity_3d_px</th>\n",
       "      <th>width_px</th>\n",
       "      <th>length_px</th>\n",
       "      <th>area_px</th>\n",
       "      <th>centroid_x_mm</th>\n",
       "      <th>centroid_y_mm</th>\n",
       "      <th>...</th>\n",
       "      <th>angle</th>\n",
       "      <th>velocity_theta</th>\n",
       "      <th>SessionName</th>\n",
       "      <th>SubjectName</th>\n",
       "      <th>StartTime</th>\n",
       "      <th>group</th>\n",
       "      <th>uuid</th>\n",
       "      <th>model_label</th>\n",
       "      <th>model_label (sort=usage)</th>\n",
       "      <th>model_label (sort=frames)</th>\n",
       "    </tr>\n",
       "  </thead>\n",
       "  <tbody>\n",
       "    <tr>\n",
       "      <th>0</th>\n",
       "      <td>1998387576</td>\n",
       "      <td>212.378647</td>\n",
       "      <td>36.431034</td>\n",
       "      <td>0.000000</td>\n",
       "      <td>0.000000</td>\n",
       "      <td>22.593216</td>\n",
       "      <td>45.804768</td>\n",
       "      <td>792.0</td>\n",
       "      <td>-70.662796</td>\n",
       "      <td>-291.870422</td>\n",
       "      <td>...</td>\n",
       "      <td>2.002491</td>\n",
       "      <td>0.000000</td>\n",
       "      <td>session01</td>\n",
       "      <td>King</td>\n",
       "      <td>2019-07-13T13:48:14.3934983-04:00</td>\n",
       "      <td>group2</td>\n",
       "      <td>d0d53474-7d4c-424c-bead-89b0483a1022</td>\n",
       "      <td>-5</td>\n",
       "      <td>-5</td>\n",
       "      <td>-5</td>\n",
       "    </tr>\n",
       "    <tr>\n",
       "      <th>1</th>\n",
       "      <td>1998387610</td>\n",
       "      <td>211.958771</td>\n",
       "      <td>36.435844</td>\n",
       "      <td>0.419904</td>\n",
       "      <td>0.553043</td>\n",
       "      <td>22.720619</td>\n",
       "      <td>43.726246</td>\n",
       "      <td>776.0</td>\n",
       "      <td>-71.342957</td>\n",
       "      <td>-291.862427</td>\n",
       "      <td>...</td>\n",
       "      <td>1.999390</td>\n",
       "      <td>3.129838</td>\n",
       "      <td>session01</td>\n",
       "      <td>King</td>\n",
       "      <td>2019-07-13T13:48:14.3934983-04:00</td>\n",
       "      <td>group2</td>\n",
       "      <td>d0d53474-7d4c-424c-bead-89b0483a1022</td>\n",
       "      <td>-5</td>\n",
       "      <td>-5</td>\n",
       "      <td>-5</td>\n",
       "    </tr>\n",
       "    <tr>\n",
       "      <th>2</th>\n",
       "      <td>1998387643</td>\n",
       "      <td>211.785110</td>\n",
       "      <td>36.702099</td>\n",
       "      <td>0.317883</td>\n",
       "      <td>0.338353</td>\n",
       "      <td>20.935556</td>\n",
       "      <td>42.675392</td>\n",
       "      <td>702.0</td>\n",
       "      <td>-71.624268</td>\n",
       "      <td>-291.419800</td>\n",
       "      <td>...</td>\n",
       "      <td>2.001822</td>\n",
       "      <td>2.136945</td>\n",
       "      <td>session01</td>\n",
       "      <td>King</td>\n",
       "      <td>2019-07-13T13:48:14.3934983-04:00</td>\n",
       "      <td>group2</td>\n",
       "      <td>d0d53474-7d4c-424c-bead-89b0483a1022</td>\n",
       "      <td>-5</td>\n",
       "      <td>-5</td>\n",
       "      <td>-5</td>\n",
       "    </tr>\n",
       "    <tr>\n",
       "      <th>3</th>\n",
       "      <td>1998387676</td>\n",
       "      <td>211.952728</td>\n",
       "      <td>36.642788</td>\n",
       "      <td>0.177802</td>\n",
       "      <td>0.295842</td>\n",
       "      <td>21.149313</td>\n",
       "      <td>43.262562</td>\n",
       "      <td>725.0</td>\n",
       "      <td>-71.352745</td>\n",
       "      <td>-291.518402</td>\n",
       "      <td>...</td>\n",
       "      <td>1.985022</td>\n",
       "      <td>-0.348338</td>\n",
       "      <td>session01</td>\n",
       "      <td>King</td>\n",
       "      <td>2019-07-13T13:48:14.3934983-04:00</td>\n",
       "      <td>group2</td>\n",
       "      <td>d0d53474-7d4c-424c-bead-89b0483a1022</td>\n",
       "      <td>29</td>\n",
       "      <td>72</td>\n",
       "      <td>63</td>\n",
       "    </tr>\n",
       "    <tr>\n",
       "      <th>4</th>\n",
       "      <td>1998387710</td>\n",
       "      <td>211.874756</td>\n",
       "      <td>37.614334</td>\n",
       "      <td>0.974670</td>\n",
       "      <td>1.104526</td>\n",
       "      <td>20.096786</td>\n",
       "      <td>44.586239</td>\n",
       "      <td>717.0</td>\n",
       "      <td>-71.479057</td>\n",
       "      <td>-289.903259</td>\n",
       "      <td>...</td>\n",
       "      <td>2.010844</td>\n",
       "      <td>1.648842</td>\n",
       "      <td>session01</td>\n",
       "      <td>King</td>\n",
       "      <td>2019-07-13T13:48:14.3934983-04:00</td>\n",
       "      <td>group2</td>\n",
       "      <td>d0d53474-7d4c-424c-bead-89b0483a1022</td>\n",
       "      <td>29</td>\n",
       "      <td>72</td>\n",
       "      <td>63</td>\n",
       "    </tr>\n",
       "  </tbody>\n",
       "</table>\n",
       "<p>5 rows × 26 columns</p>\n",
       "</div>"
      ],
      "text/plain": [
       "    timestamp  centroid_x_px  centroid_y_px  velocity_2d_px  velocity_3d_px  \\\n",
       "0  1998387576     212.378647      36.431034        0.000000        0.000000   \n",
       "1  1998387610     211.958771      36.435844        0.419904        0.553043   \n",
       "2  1998387643     211.785110      36.702099        0.317883        0.338353   \n",
       "3  1998387676     211.952728      36.642788        0.177802        0.295842   \n",
       "4  1998387710     211.874756      37.614334        0.974670        1.104526   \n",
       "\n",
       "    width_px  length_px  area_px  centroid_x_mm  centroid_y_mm  ...     angle  \\\n",
       "0  22.593216  45.804768    792.0     -70.662796    -291.870422  ...  2.002491   \n",
       "1  22.720619  43.726246    776.0     -71.342957    -291.862427  ...  1.999390   \n",
       "2  20.935556  42.675392    702.0     -71.624268    -291.419800  ...  2.001822   \n",
       "3  21.149313  43.262562    725.0     -71.352745    -291.518402  ...  1.985022   \n",
       "4  20.096786  44.586239    717.0     -71.479057    -289.903259  ...  2.010844   \n",
       "\n",
       "   velocity_theta  SessionName  SubjectName  \\\n",
       "0        0.000000    session01         King   \n",
       "1        3.129838    session01         King   \n",
       "2        2.136945    session01         King   \n",
       "3       -0.348338    session01         King   \n",
       "4        1.648842    session01         King   \n",
       "\n",
       "                           StartTime   group  \\\n",
       "0  2019-07-13T13:48:14.3934983-04:00  group2   \n",
       "1  2019-07-13T13:48:14.3934983-04:00  group2   \n",
       "2  2019-07-13T13:48:14.3934983-04:00  group2   \n",
       "3  2019-07-13T13:48:14.3934983-04:00  group2   \n",
       "4  2019-07-13T13:48:14.3934983-04:00  group2   \n",
       "\n",
       "                                   uuid  model_label model_label (sort=usage)  \\\n",
       "0  d0d53474-7d4c-424c-bead-89b0483a1022           -5                       -5   \n",
       "1  d0d53474-7d4c-424c-bead-89b0483a1022           -5                       -5   \n",
       "2  d0d53474-7d4c-424c-bead-89b0483a1022           -5                       -5   \n",
       "3  d0d53474-7d4c-424c-bead-89b0483a1022           29                       72   \n",
       "4  d0d53474-7d4c-424c-bead-89b0483a1022           29                       72   \n",
       "\n",
       "  model_label (sort=frames)  \n",
       "0                        -5  \n",
       "1                        -5  \n",
       "2                        -5  \n",
       "3                        63  \n",
       "4                        63  \n",
       "\n",
       "[5 rows x 26 columns]"
      ]
     },
     "execution_count": 4,
     "metadata": {},
     "output_type": "execute_result"
    }
   ],
   "source": [
    "df.head()\n",
    "#temp = df[['model_label', 'model_label (sort=usage)', 'model_label (sort=frames)']]\n",
    "#np.savetxt(file_path+'/df_modelLabelAndSortAndFrames.txt', temp, delimiter=',', fmt=\"%d\")"
   ]
  },
  {
   "cell_type": "code",
   "execution_count": 32,
   "metadata": {},
   "outputs": [
    {
     "data": {
      "text/plain": [
       "(18000,)"
      ]
     },
     "metadata": {},
     "output_type": "display_data"
    },
    {
     "name": "stdout",
     "output_type": "stream",
     "text": [
      "group 1 mouse 1\n"
     ]
    },
    {
     "data": {
      "text/plain": [
       "'Rook'"
      ]
     },
     "metadata": {},
     "output_type": "display_data"
    },
    {
     "data": {
      "text/plain": [
       "(65,)"
      ]
     },
     "metadata": {},
     "output_type": "display_data"
    },
    {
     "data": {
      "text/plain": [
       "(18000,)"
      ]
     },
     "metadata": {},
     "output_type": "display_data"
    },
    {
     "data": {
      "text/plain": [
       "(18000,)"
      ]
     },
     "metadata": {},
     "output_type": "display_data"
    },
    {
     "data": {
      "text/plain": [
       "(18000,)"
      ]
     },
     "metadata": {},
     "output_type": "display_data"
    },
    {
     "data": {
      "text/plain": [
       "(18000,)"
      ]
     },
     "metadata": {},
     "output_type": "display_data"
    },
    {
     "data": {
      "text/plain": [
       "(18000,)"
      ]
     },
     "metadata": {},
     "output_type": "display_data"
    },
    {
     "data": {
      "text/plain": [
       "(18000,)"
      ]
     },
     "metadata": {},
     "output_type": "display_data"
    },
    {
     "data": {
      "text/plain": [
       "(18000,)"
      ]
     },
     "metadata": {},
     "output_type": "display_data"
    },
    {
     "data": {
      "text/plain": [
       "(18000,)"
      ]
     },
     "metadata": {},
     "output_type": "display_data"
    },
    {
     "name": "stdout",
     "output_type": "stream",
     "text": [
      "group 2 mouse 1\n"
     ]
    },
    {
     "data": {
      "text/plain": [
       "(18000,)"
      ]
     },
     "metadata": {},
     "output_type": "display_data"
    },
    {
     "data": {
      "text/plain": [
       "'step 3 done'"
      ]
     },
     "metadata": {},
     "output_type": "display_data"
    }
   ],
   "source": [
    "# Step 3: compute label usages\n",
    "def gi(x):\n",
    "    return ~np.isnan(x).any(tuple(range(1,x.ndim)))\n",
    "def good(x):\n",
    "    return x[gi(x)]\n",
    "def calc_label_usage(labels, n_states=None):\n",
    "    usage = np.bincount(np.nan_to_num(good(labels)).astype('int32'), minlength=n_states)\n",
    "    usage = usage / float(usage.sum())\n",
    "    return usage\n",
    "\n",
    "N=65 #65\n",
    "#N=number of syllables to analyze — typically the number of syllables that account for 90% of all behavior\n",
    "\n",
    "group1_usages = []\n",
    "for i in df.SubjectName[df.group == 'group1'].unique():\n",
    "    curr_uuids = df[df.SubjectName == i]['uuid']\n",
    "    uuid_intersect = curr_uuids.isin(uuid_file[which_s])\n",
    "    \n",
    "    working_labels = df[df.SubjectName == i]['model_label (sort=frames)'] \n",
    "    working_labels = working_labels[uuid_intersect]             ####################\n",
    "    working_labels = working_labels[:(30*60*10)]                ####################\n",
    "    display(working_labels.shape)\n",
    "    group1_usages.append(calc_label_usage(working_labels[working_labels>-5].values)[:N]) #normalized histcounts\n",
    "        \n",
    "    if i == 'Rook':\n",
    "        print(\"group 1 mouse 1\")\n",
    "        display(i)\n",
    "        test=calc_label_usage(working_labels[working_labels>-5].values)[:N]\n",
    "        display(test.shape)\n",
    "        \n",
    "        #np.savetxt(file_path+'/GUsagesStats_workingLabels_G1_sortFrames.txt', working_labels, delimiter=',', fmt=\"%d\")\n",
    "        #np.savetxt(file_path+'/GUsagesStats_group1Usages_all.txt', group1_usages, delimiter=',', fmt=\"%.3f\")\n",
    "    \n",
    "group2_usages = []\n",
    "for i in df.SubjectName[df.group == 'group2'].unique():\n",
    "    curr_uuids = df[df.SubjectName == i]['uuid']\n",
    "    uuid_intersect = curr_uuids.isin(uuid_file[which_c])\n",
    "    \n",
    "    working_labels = df[df.SubjectName == i]['model_label (sort=frames)']\n",
    "    working_labels = working_labels[uuid_intersect]             ####################\n",
    "    working_labels = working_labels[:(30*60*10)]                ####################\n",
    "    group2_usages.append(calc_label_usage(working_labels[working_labels>-5].values)[:N])\n",
    "        \n",
    "    if i == 'King':\n",
    "        print(\"group 2 mouse 1\")\n",
    "        display(working_labels.shape)\n",
    "        \n",
    "display('step 3 done')\n",
    "\n",
    "#display(df.SubjectName[df.group == 'group1'].unique())\n",
    "#display(df.SubjectName[df.group == 'group2'].unique())\n",
    "# group1_usages shape = 9 x 65"
   ]
  },
  {
   "cell_type": "code",
   "execution_count": 33,
   "metadata": {},
   "outputs": [
    {
     "data": {
      "text/plain": [
       "array([ 1,  1,  3,  2,  1,  7, 20])"
      ]
     },
     "metadata": {},
     "output_type": "display_data"
    },
    {
     "data": {
      "text/plain": [
       "array([1, 3, 1, 1, 0, 0, 0, 1, 0, 0, 0, 0, 0, 0, 0, 0, 0, 0, 0, 0, 1])"
      ]
     },
     "execution_count": 33,
     "metadata": {},
     "output_type": "execute_result"
    }
   ],
   "source": [
    "temp = np.array([0, 1, 1, 3, 2, 1, 7, 20])\n",
    "display(temp[temp>0])\n",
    "np.bincount(temp)"
   ]
  },
  {
   "cell_type": "code",
   "execution_count": 34,
   "metadata": {},
   "outputs": [
    {
     "data": {
      "text/plain": [
       "'step 4 done'"
      ]
     },
     "metadata": {},
     "output_type": "display_data"
    }
   ],
   "source": [
    "# Step 4: bootstrap usages\n",
    "def bootstrap_group(lst, rng):\n",
    "    return list(rng.choice(len(lst),len(lst),replace=True))\n",
    "\n",
    "def bootstrap_me(usages, iters=1000):\n",
    "    bootstrap_mean_usages = []\n",
    "    for i in range(iters):\n",
    "        rng = np.random.RandomState(seed=i)\n",
    "        temp = []\n",
    "        boot_mice = bootstrap_group(usages, rng)\n",
    "        for mouse in boot_mice:\n",
    "            temp.append(usages[mouse])\n",
    "\n",
    "        #if i == 0:\n",
    "            #display(i)\n",
    "            #np.savetxt(file_path+'/bootstrap_temp.txt', temp, delimiter=',', fmt=\"%s\")\n",
    "                \n",
    "        temp = np.asarray(temp) \n",
    "        bootstrap_mean_usages.append(np.nanmean(temp,axis=0))\n",
    "        \n",
    "    return bootstrap_mean_usages\n",
    "\n",
    "group1_boots = bootstrap_me(group1_usages)\n",
    "group2_boots = bootstrap_me(group2_usages)\n",
    "#display(np.shape(group1_boots))\n",
    "\n",
    "display('step 4 done')"
   ]
  },
  {
   "cell_type": "code",
   "execution_count": 35,
   "metadata": {},
   "outputs": [
    {
     "data": {
      "text/plain": [
       "'step 5 done'"
      ]
     },
     "metadata": {},
     "output_type": "display_data"
    }
   ],
   "source": [
    "# Step 5: perform z-test\n",
    "# A z-test is a statistical test to determine whether two population means are different\n",
    "# when the variances are known and the sample size is large.\n",
    "# It can be used to test hypotheses in which the z-test follows a normal distribution.\n",
    "def ztest(d1, d2, mu1=None, mu2=None):\n",
    "    mu1 = d1.mean() if mu1 is None else mu1\n",
    "    mu2 = d2.mean() if mu2 is None else mu2\n",
    "    std1, std2 = d1.std(), d2.std()\n",
    "\n",
    "    std = np.sqrt(std1**2 + std2**2)\n",
    "    return np.minimum(1.,2*stats.norm.cdf(-np.abs(mu1 - mu2)/std))\n",
    "\n",
    "# do a ztest on the bootstrap distributions of your 2 conditions\n",
    "group1_boots = np.asarray(group1_boots)\n",
    "group2_boots = np.asarray(group2_boots)\n",
    "\n",
    "#pvals_ztest_boots = np.array([ztest(group1_boots[:,i], group2_boots[:,i]) for i in range(group1_boots.shape[1])])\n",
    "pvals_ztest_boots = np.array([ ztest(group1_boots[:,i], group2_boots[:,i]) for i in range(np.shape(group1_boots)[1]) ])\n",
    "\n",
    "#np.savetxt(file_path+'/pvals_ztest_boots_N1_10min.txt', pvals_ztest_boots, delimiter=',', fmt=\"%.6f\")\n",
    "\n",
    "display('step 5 done')"
   ]
  },
  {
   "cell_type": "code",
   "execution_count": 36,
   "metadata": {},
   "outputs": [
    {
     "data": {
      "text/plain": [
       "array([53])"
      ]
     },
     "metadata": {},
     "output_type": "display_data"
    },
    {
     "data": {
      "text/plain": [
       "(array([False, False, False, False, False, False, False, False, False,\n",
       "        False, False, False, False, False, False, False, False, False,\n",
       "        False, False, False, False, False, False, False, False, False,\n",
       "        False, False, False, False, False, False, False, False, False,\n",
       "        False, False, False, False, False, False, False, False, False,\n",
       "        False, False, False, False, False, False, False, False,  True,\n",
       "        False, False, False, False, False, False, False, False, False,\n",
       "        False, False]),\n",
       " array([0.98720715, 0.98720715, 0.98107199, 0.96919204, 0.96919204,\n",
       "        0.96919204, 0.99938972, 0.96919204, 0.96919204, 0.99938972,\n",
       "        0.96919204, 0.96919204, 0.96919204, 0.98720715, 0.84682025,\n",
       "        0.96919204, 0.96919204, 0.96919204, 0.96919204, 0.98720715,\n",
       "        0.96919204, 0.96919204, 0.96919204, 0.98720715, 0.99938972,\n",
       "        0.98720715, 0.98107199, 0.99938972, 0.98720715, 0.3234506 ,\n",
       "        0.98107199, 0.99938972, 0.96919204, 0.96919204, 0.96919204,\n",
       "        0.96919204, 0.98720715, 0.98720715, 0.96919204, 0.96919204,\n",
       "        0.98720715, 0.98720715, 0.96919204, 0.96919204, 0.96919204,\n",
       "        0.98107199, 0.96919204, 0.96919204, 0.98720715, 0.98720715,\n",
       "        0.96919204, 0.96919204, 0.98107199, 0.00176507, 0.98107199,\n",
       "        0.96919204, 0.98720715, 0.96919204, 0.98720715, 0.96919204,\n",
       "        0.98720715, 0.98720715, 0.3234506 , 0.98720715, 0.98720715]),\n",
       " 0.0016196180109734337,\n",
       " 0.0015384615384615385)"
      ]
     },
     "metadata": {},
     "output_type": "display_data"
    },
    {
     "data": {
      "text/plain": [
       "'step 6 done'"
      ]
     },
     "metadata": {},
     "output_type": "display_data"
    }
   ],
   "source": [
    "# Step 6: multiple comparisons p-value correction\n",
    "from statsmodels.stats.multitest import multipletests\n",
    "\n",
    "# correction method = fdr_bh = Benjamini/Hochberg (non-negative) \n",
    "# significant syllables (relabeled by time used)\n",
    "sig_syls = np.where(multipletests(pvals_ztest_boots, alpha=0.10, method='fdr_bh')[0])[0]\n",
    "display(sig_syls)\n",
    "\n",
    "#multipletests output:\n",
    "# boolean (true=significant)\n",
    "# pvals_corrected\n",
    "# corrected alpha for Sidak method\n",
    "# corrected alpha for Bonf method\n",
    "\n",
    "after_correction = multipletests(pvals_ztest_boots, alpha=0.10, method='fdr_bh') #'fdr_bh','holm'\n",
    "display(after_correction)\n",
    "#np.savetxt(file_path+'/pvals_afterCorrection_bool_N1_10min.txt', after_correction[1], delimiter=',', fmt=\"%.6f\")\n",
    "\n",
    "display('step 6 done')"
   ]
  },
  {
   "cell_type": "code",
   "execution_count": 48,
   "metadata": {},
   "outputs": [
    {
     "data": {
      "text/plain": [
       "(array([False, False, False, False, False, False, False, False, False,\n",
       "        False, False, False, False, False, False, False, False, False,\n",
       "        False, False, False, False, False, False, False, False, False,\n",
       "        False, False,  True, False, False, False, False, False, False,\n",
       "        False, False, False, False, False, False, False, False, False,\n",
       "        False, False, False, False, False, False, False, False,  True,\n",
       "        False, False, False, False, False, False, False, False,  True,\n",
       "        False, False]),\n",
       " array([0.98720715, 0.98720715, 0.98107199, 0.96919204, 0.96919204,\n",
       "        0.96919204, 0.99938972, 0.96919204, 0.96919204, 0.99938972,\n",
       "        0.96919204, 0.96919204, 0.96919204, 0.98720715, 0.84682025,\n",
       "        0.96919204, 0.96919204, 0.96919204, 0.96919204, 0.98720715,\n",
       "        0.96919204, 0.96919204, 0.96919204, 0.98720715, 0.99938972,\n",
       "        0.98720715, 0.98107199, 0.99938972, 0.98720715, 0.3234506 ,\n",
       "        0.98107199, 0.99938972, 0.96919204, 0.96919204, 0.96919204,\n",
       "        0.96919204, 0.98720715, 0.98720715, 0.96919204, 0.96919204,\n",
       "        0.98720715, 0.98720715, 0.96919204, 0.96919204, 0.96919204,\n",
       "        0.98107199, 0.96919204, 0.96919204, 0.98720715, 0.98720715,\n",
       "        0.96919204, 0.96919204, 0.98107199, 0.00176507, 0.98107199,\n",
       "        0.96919204, 0.98720715, 0.96919204, 0.98720715, 0.96919204,\n",
       "        0.98720715, 0.98720715, 0.3234506 , 0.98720715, 0.98720715]),\n",
       " 0.006605516503223052,\n",
       " 0.005384615384615384)"
      ]
     },
     "metadata": {},
     "output_type": "display_data"
    }
   ],
   "source": [
    "#display(multipletests(pvals_ztest_boots, alpha=0.35, method='fdr_bh'))\n",
    "#display(np.where(multipletests(pvals_ztest_boots, alpha=0.35, method='fdr_bh')[0])[0])"
   ]
  },
  {
   "cell_type": "code",
   "execution_count": 30,
   "metadata": {},
   "outputs": [
    {
     "data": {
      "text/plain": [
       "array([8.62077748e-01, 8.09516352e-01, 5.51484808e-01, 5.01393783e-01,\n",
       "       4.60741690e-01, 4.68945783e-01, 9.69624300e-01, 2.42831237e-01,\n",
       "       2.61662130e-01, 9.65963825e-01, 4.95197858e-01, 5.19262975e-01,\n",
       "       4.30830119e-01, 8.86512795e-01, 5.21120154e-02, 3.38913912e-01,\n",
       "       1.76403868e-01, 5.21872637e-01, 4.50172017e-01, 6.46824324e-01,\n",
       "       3.22635702e-01, 1.03358601e-01, 1.10788129e-01, 7.28923175e-01,\n",
       "       9.89890784e-01, 8.94842513e-01, 5.91125326e-01, 9.94708396e-01,\n",
       "       7.28042332e-01, 1.49284890e-02, 6.08277847e-01, 9.99389722e-01,\n",
       "       2.67942891e-01, 3.41865328e-01, 2.22697496e-01, 4.29213381e-01,\n",
       "       7.28979710e-01, 8.74111595e-01, 4.80158319e-01, 2.07127828e-01,\n",
       "       8.88759612e-01, 6.57172801e-01, 3.52765585e-01, 2.54768447e-01,\n",
       "       3.22062831e-01, 6.12597572e-01, 2.76094013e-01, 2.14850849e-01,\n",
       "       8.60081917e-01, 8.97926790e-01, 4.71463534e-01, 2.51225213e-01,\n",
       "       6.18830024e-01, 2.71548705e-05, 5.67770119e-01])"
      ]
     },
     "metadata": {},
     "output_type": "display_data"
    },
    {
     "data": {
      "text/plain": [
       "(array([  4.,  13.,  53., 116., 230., 271., 186.,  98.,  26.,   3.]),\n",
       " array([0.00570465, 0.00708081, 0.00845697, 0.00983312, 0.01120928,\n",
       "        0.01258543, 0.01396159, 0.01533774, 0.0167139 , 0.01809005,\n",
       "        0.01946621]),\n",
       " <a list of 10 Patch objects>)"
      ]
     },
     "execution_count": 30,
     "metadata": {},
     "output_type": "execute_result"
    },
    {
     "data": {
      "image/png": "[encoded data removed]",
      "text/plain": [
       "<Figure size 432x288 with 1 Axes>"
      ]
     },
     "metadata": {
      "needs_background": "light"
     },
     "output_type": "display_data"
    }
   ],
   "source": [
    "display(pvals_ztest_boots)\n",
    "\n",
    "# significant syllable(s)\n",
    "curr_syl = 53\n",
    "\n",
    "# histogram of the sampling distribution of the means for each group\n",
    "plt.hist(group1_boots[:,curr_syl])\n",
    "plt.hist(group2_boots[:,curr_syl])"
   ]
  },
  {
   "cell_type": "code",
   "execution_count": null,
   "metadata": {},
   "outputs": [],
   "source": [
    "def _ecdf(x):\n",
    "    '''no frills empirical cdf used in fdrcorrection\n",
    "    '''\n",
    "    nobs = len(x)\n",
    "    return np.arange(1,nobs+1)/float(nobs)\n",
    "\n",
    "p_vals_ex = [0.000027, 0.012836, 0.014928, 0.052112, 0.103359, 0.110788]\n",
    "display(len(p_vals_ex))\n",
    "display(np.arange(1,len(p_vals_ex)+1))\n",
    "display(float(len(p_vals_ex)))\n",
    "\n",
    "display(_ecdf(p_vals_ex))"
   ]
  },
  {
   "cell_type": "code",
   "execution_count": null,
   "metadata": {},
   "outputs": [],
   "source": []
  }
 ],
 "metadata": {
  "kernelspec": {
   "display_name": "Python 3",
   "language": "python",
   "name": "python3"
  },
  "language_info": {
   "codemirror_mode": {
    "name": "ipython",
    "version": 3
   },
   "file_extension": ".py",
   "mimetype": "text/x-python",
   "name": "python",
   "nbconvert_exporter": "python",
   "pygments_lexer": "ipython3",
   "version": "3.6.10"
  },
  "varInspector": {
   "cols": {
    "lenName": 16,
    "lenType": 16,
    "lenVar": 40
   },
   "kernels_config": {
    "python": {
     "delete_cmd_postfix": "",
     "delete_cmd_prefix": "del ",
     "library": "var_list.py",
     "varRefreshCmd": "print(var_dic_list())"
    },
    "r": {
     "delete_cmd_postfix": ") ",
     "delete_cmd_prefix": "rm(",
     "library": "var_list.r",
     "varRefreshCmd": "cat(var_dic_list()) "
    }
   },
   "oldHeight": 261.65,
   "position": {
    "height": "40px",
    "left": "957px",
    "right": "20px",
    "top": "80px",
    "width": "519.8px"
   },
   "types_to_exclude": [
    "module",
    "function",
    "builtin_function_or_method",
    "instance",
    "_Feature"
   ],
   "varInspector_section_display": "none",
   "window_display": true
  }
 },
 "nbformat": 4,
 "nbformat_minor": 2
}
